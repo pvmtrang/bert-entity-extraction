{
 "cells": [
  {
   "cell_type": "code",
   "execution_count": 23,
   "id": "385fdcfe-f980-455d-b31c-bcc656470cd1",
   "metadata": {},
   "outputs": [],
   "source": [
    "import torch\n",
    "import numpy as np\n",
    "import pandas as pd\n",
    "from sklearn import model_selection\n",
    "import os"
   ]
  },
  {
   "cell_type": "code",
   "execution_count": 16,
   "id": "81dbbef8",
   "metadata": {},
   "outputs": [
    {
     "name": "stderr",
     "output_type": "stream",
     "text": [
      "d:\\NLP\\bert-entity-extraction\\venv\\Lib\\site-packages\\tqdm\\auto.py:21: TqdmWarning: IProgress not found. Please update jupyter and ipywidgets. See https://ipywidgets.readthedocs.io/en/stable/user_install.html\n",
      "  from .autonotebook import tqdm as notebook_tqdm\n"
     ]
    }
   ],
   "source": [
    "import transformers\n",
    "bert = transformers.BertModel.from_pretrained(\"input/bert-base-uncased\",return_dict=False)"
   ]
  },
  {
   "cell_type": "code",
   "execution_count": 32,
   "id": "1502e7ba",
   "metadata": {},
   "outputs": [
    {
     "name": "stdout",
     "output_type": "stream",
     "text": [
      "en_test-2.txt\n",
      "d:\\NLP\\bert-entity-extraction\\input\\multiconer1_2022\\EN-English\n",
      "d:\\NLP\\bert-entity-extraction\\input\\multiconer1_2022\\EN-English\\en_test-2.conll\n"
     ]
    }
   ],
   "source": [
    "## first file in current dir (with full path)\n",
    "print(os.path.basename(\"input/multiconer1_2022/EN-English/en_test-2.conll\").split(\".\")[0] + \".txt\")\n",
    "print(os.path.dirname(os.path.abspath(\"input/multiconer1_2022/EN-English/en_test-2.conll\")))\n",
    "print(os.path.abspath(\"input/multiconer1_2022/EN-English/en_test-2.conll\"))\n",
    "# file = os.path.join(os.getcwd(), os.listdir(os.getcwd())[0])\n",
    "# file\n",
    "# os.path.dirname(file) ## directory of file\n",
    "# os.path.dirname(os.path.dirname(file)) ## directory of directory of file\n"
   ]
  },
  {
   "cell_type": "code",
   "execution_count": 33,
   "id": "b0fded3d",
   "metadata": {},
   "outputs": [
    {
     "name": "stdout",
     "output_type": "stream",
     "text": [
      "---- i = 0\n",
      "[1, 1, 1]\n",
      "[2, 2, 2]\n",
      "[3, 3, 3]\n",
      "---- i = 1\n",
      "[1, 1, 1]\n",
      "[2, 2, 2]\n",
      "[3, 3, 3]\n",
      "---- i = 2\n",
      "[1, 1, 1]\n",
      "[2, 2, 2]\n",
      "[3, 3, 3]\n",
      "[(1, 2, 3), (1, 2, 3), (1, 2, 3)]\n",
      "[(1, 2, 3), (1, 2, 3), (1, 2, 3)]\n",
      "[(1, 2, 3), (1, 2, 3), (1, 2, 3)]\n"
     ]
    }
   ],
   "source": [
    "x = [[1, 1, 1], [1, 1, 1], [1, 1, 1]]\n",
    "y = [[2, 2, 2], [2, 2, 2], [2, 2, 2]]\n",
    "z = [[3, 3, 3], [3, 3, 3], [3, 3, 3]]\n",
    "\n",
    "final = []\n",
    "for i in range (len(x)):\n",
    "    print(\"---- i = \" + str(i))\n",
    "    print(x[i])\n",
    "    print(y[i])\n",
    "    print(z[i])\n",
    "    a = zip(x[i], y[i], z[i])\n",
    "    list_a = list(a)\n",
    "    final.append(list_a)\n",
    "for i in range (len(final)):\n",
    "    print(final[i])\n"
   ]
  },
  {
   "cell_type": "code",
   "execution_count": 30,
   "id": "a00a0d2d",
   "metadata": {},
   "outputs": [
    {
     "name": "stdout",
     "output_type": "stream",
     "text": [
      "              precision    recall  f1-score   support\n",
      "\n",
      "     class 0       0.50      1.00      0.67         1\n",
      "     class 1       0.00      0.00      0.00         1\n",
      "     class 2       1.00      0.67      0.80         3\n",
      "\n",
      "    accuracy                           0.60         5\n",
      "   macro avg       0.50      0.56      0.49         5\n",
      "weighted avg       0.70      0.60      0.61         5\n",
      "\n"
     ]
    }
   ],
   "source": [
    "import sklearn\n",
    "from sklearn import metrics\n",
    "import torch.nn as nn\n",
    "\n",
    "from sklearn.metrics import classification_report\n",
    "y_true = [0, 1, 2, 2, 2]\n",
    "y_pred = [0, 0, 2, 2, 1]\n",
    "target_names = ['class 0', 'class 1', 'class 2']\n",
    "print(classification_report(y_true, y_pred, target_names=target_names))\n",
    "\n",
    "y_true = [0, 1, 2, 2, 2]\n",
    "y_pred = [0, 0, 2, 2, 1]\n",
    "target_names = ['class 0', 'class 1', 'class 2']\n",
    "print(classification_report(y_true, y_pred, target_names=target_names))\n"
   ]
  },
  {
   "cell_type": "code",
   "execution_count": 4,
   "id": "c5b4d93a-5d04-46cf-a5fe-e3339562f227",
   "metadata": {},
   "outputs": [
    {
     "name": "stderr",
     "output_type": "stream",
     "text": [
      "C:\\Users\\PC\\AppData\\Local\\Temp\\ipykernel_8136\\3054647275.py:2: FutureWarning: Series.fillna with 'method' is deprecated and will raise in a future version. Use obj.ffill() or obj.bfill() instead.\n",
      "  df_csv.loc[:, \"Sentence #\"] = df_csv[\"Sentence #\"].fillna(method=\"ffill\")\n"
     ]
    },
    {
     "name": "stdout",
     "output_type": "stream",
     "text": [
      "Total sentence: Sentence: 47959\n",
      "Train len: 43163\n",
      "Val len: 4796\n"
     ]
    }
   ],
   "source": [
    "df_csv = pd.read_csv(\"input/ner_dataset.csv\", encoding=\"latin-1\", keep_default_na=False, na_values=[''])\n",
    "df_csv.loc[:, \"Sentence #\"] = df_csv[\"Sentence #\"].fillna(method=\"ffill\")\n",
    "sentences = df_csv.groupby(\"Sentence #\")[\"Word\"].apply(list).values\n",
    "print(\"Total sentence: \" + df_csv[\"Sentence #\"].iloc[-1])\n",
    "(\n",
    "    train_sentences,\n",
    "    test_sentences,\n",
    ") = model_selection.train_test_split(sentences, random_state=42, test_size=0.1)\n",
    "\n",
    "print(\"Train len: \"+ str(len(train_sentences)))\n",
    "print(\"Val len: \"+ str(len(test_sentences)))\n"
   ]
  },
  {
   "cell_type": "code",
   "execution_count": 5,
   "id": "9159d1ce-1f7e-45df-be11-1c7cdb58eefe",
   "metadata": {},
   "outputs": [],
   "source": [
    "def load_sentences_into_df(path): #load into a list of list to create df\n",
    "    \"\"\"\n",
    "    Load sentences. A line must contain at least a word and its tag.\n",
    "    Sentences are separated by empty lines.\n",
    "    \"\"\"\n",
    "    sentences = []\n",
    "    #sentence = [] #sentence: a list of line.split() for an actual sentence sample\n",
    "    sentence_cnt = 0\n",
    "    with open(path, encoding=\"utf8\") as file:\n",
    "        for line in file:\n",
    "            #print(line)\n",
    "            line = line.strip()\n",
    "            if not line: #empty line to separate two sentences\n",
    "                sentence_cnt += 1\n",
    "            else: \n",
    "                line = line.split()\n",
    "                sentence_word = [sentence_cnt]\n",
    "                if len(line) != 4 or line[1] != \"_\":\n",
    "                    #print(line)\n",
    "                    continue\n",
    "                else:\n",
    "                    sentence_word.extend([line[0], line[-1]])\n",
    "                    sentences.append(sentence_word)\n",
    "    return pd.DataFrame(sentences, columns = [\"Sentence #\", \"Word\", \"Tag\"])\n",
    "            "
   ]
  },
  {
   "cell_type": "code",
   "execution_count": 6,
   "id": "33b823a9-7f8b-4a91-b4d7-f54ce1e3675a",
   "metadata": {},
   "outputs": [
    {
     "ename": "SyntaxError",
     "evalue": "incomplete input (4108810629.py, line 2)",
     "output_type": "error",
     "traceback": [
      "\u001b[1;36m  Cell \u001b[1;32mIn[6], line 2\u001b[1;36m\u001b[0m\n\u001b[1;33m    \u001b[0m\n\u001b[1;37m    ^\u001b[0m\n\u001b[1;31mSyntaxError\u001b[0m\u001b[1;31m:\u001b[0m incomplete input\n"
     ]
    }
   ],
   "source": [
    "def load_sentences(path): #return a list of sentences, list of words and list of tags\n",
    "    "
   ]
  },
  {
   "cell_type": "code",
   "execution_count": null,
   "id": "e6ff7012-540f-475b-b326-fd4de79f9693",
   "metadata": {},
   "outputs": [
    {
     "data": {
      "text/html": [
       "<div>\n",
       "<style scoped>\n",
       "    .dataframe tbody tr th:only-of-type {\n",
       "        vertical-align: middle;\n",
       "    }\n",
       "\n",
       "    .dataframe tbody tr th {\n",
       "        vertical-align: top;\n",
       "    }\n",
       "\n",
       "    .dataframe thead th {\n",
       "        text-align: right;\n",
       "    }\n",
       "</style>\n",
       "<table border=\"1\" class=\"dataframe\">\n",
       "  <thead>\n",
       "    <tr style=\"text-align: right;\">\n",
       "      <th></th>\n",
       "      <th>Sentence #</th>\n",
       "      <th>Word</th>\n",
       "      <th>Tag</th>\n",
       "    </tr>\n",
       "  </thead>\n",
       "  <tbody>\n",
       "    <tr>\n",
       "      <th>0</th>\n",
       "      <td>0</td>\n",
       "      <td>ease</td>\n",
       "      <td>B-CW</td>\n",
       "    </tr>\n",
       "    <tr>\n",
       "      <th>1</th>\n",
       "      <td>0</td>\n",
       "      <td>on</td>\n",
       "      <td>I-CW</td>\n",
       "    </tr>\n",
       "    <tr>\n",
       "      <th>2</th>\n",
       "      <td>0</td>\n",
       "      <td>down</td>\n",
       "      <td>I-CW</td>\n",
       "    </tr>\n",
       "    <tr>\n",
       "      <th>3</th>\n",
       "      <td>0</td>\n",
       "      <td>the</td>\n",
       "      <td>I-CW</td>\n",
       "    </tr>\n",
       "    <tr>\n",
       "      <th>4</th>\n",
       "      <td>0</td>\n",
       "      <td>road</td>\n",
       "      <td>I-CW</td>\n",
       "    </tr>\n",
       "    <tr>\n",
       "      <th>...</th>\n",
       "      <td>...</td>\n",
       "      <td>...</td>\n",
       "      <td>...</td>\n",
       "    </tr>\n",
       "    <tr>\n",
       "      <th>13449</th>\n",
       "      <td>799</td>\n",
       "      <td>and</td>\n",
       "      <td>O</td>\n",
       "    </tr>\n",
       "    <tr>\n",
       "      <th>13450</th>\n",
       "      <td>799</td>\n",
       "      <td>other</td>\n",
       "      <td>O</td>\n",
       "    </tr>\n",
       "    <tr>\n",
       "      <th>13451</th>\n",
       "      <td>799</td>\n",
       "      <td>variety</td>\n",
       "      <td>O</td>\n",
       "    </tr>\n",
       "    <tr>\n",
       "      <th>13452</th>\n",
       "      <td>799</td>\n",
       "      <td>performers</td>\n",
       "      <td>O</td>\n",
       "    </tr>\n",
       "    <tr>\n",
       "      <th>13453</th>\n",
       "      <td>799</td>\n",
       "      <td>.</td>\n",
       "      <td>O</td>\n",
       "    </tr>\n",
       "  </tbody>\n",
       "</table>\n",
       "<p>13454 rows × 3 columns</p>\n",
       "</div>"
      ],
      "text/plain": [
       "       Sentence #        Word   Tag\n",
       "0               0        ease  B-CW\n",
       "1               0          on  I-CW\n",
       "2               0        down  I-CW\n",
       "3               0         the  I-CW\n",
       "4               0        road  I-CW\n",
       "...           ...         ...   ...\n",
       "13449         799         and     O\n",
       "13450         799       other     O\n",
       "13451         799     variety     O\n",
       "13452         799  performers     O\n",
       "13453         799           .     O\n",
       "\n",
       "[13454 rows x 3 columns]"
      ]
     },
     "execution_count": 56,
     "metadata": {},
     "output_type": "execute_result"
    }
   ],
   "source": [
    "sentences_dev = load_sentences_into_df(\"input/multiconer1_2022/EN-English/en_dev.conll\")\n",
    "sentences_train = load_sentences(\"input/multiconer1_2022/EN-English/en_train.conll\")\n",
    "sentences_test = load_sentences(\"input/multiconer1_2022/EN-English/en_test.conll\")\n",
    "sentences_dev"
   ]
  },
  {
   "cell_type": "code",
   "execution_count": null,
   "id": "6c3c2fa8-0aa3-415c-b0ba-f3feed6624c7",
   "metadata": {},
   "outputs": [
    {
     "name": "stdout",
     "output_type": "stream",
     "text": [
      "B-PER B-GRP B-CW B-LOC B-CORP B-PROD\n"
     ]
    }
   ],
   "source": [
    "print(\" \".join(filter(lambda x: \"B-\" in x, df_train['Tag'].unique())))"
   ]
  },
  {
   "cell_type": "code",
   "execution_count": null,
   "id": "ce68b96d-46b8-4fcc-9775-20de74384eef",
   "metadata": {},
   "outputs": [],
   "source": [
    "def describe_df(df):\n",
    "    print(\"-- Total sentences: \" + str(df['Sentence #'].iloc[-1] + 1))\n",
    "    #print(\"-- Set of Tags: \" + \" \".join(filter(lambda x: \"B-\" in x, df['Tag'].unique())))\n",
    "    print(\"-- Set of Tags: \" + \" \".join(df['Tag'].unique()) + \" -> \" +str(df['Tag'].nunique()))\n",
    "    print(\"-- PER (person): \" + str(df['Tag'].loc[df['Tag'].str.contains(\"B-PER\")].count()))\n",
    "    print(\"-- LOC (location): \" + str(df['Tag'].loc[df['Tag'].str.contains(\"B-LOC\")].count()))\n",
    "    print(\"-- CORP (corporation): \" + str(df['Tag'].loc[df['Tag'].str.contains(\"B-CORP\")].count()))\n",
    "    print(\"-- GRP (group): \" + str(df['Tag'].loc[df['Tag'].str.contains(\"B-GRP\")].count()))\n",
    "    print(\"-- PROD (product): \" + str(df['Tag'].loc[df['Tag'].str.contains(\"B-PROD\")].count()))\n",
    "    print(\"-- CW (creative work): \" + str(df['Tag'].loc[df['Tag'].str.contains(\"B-CW\")].count()))"
   ]
  },
  {
   "cell_type": "code",
   "execution_count": null,
   "id": "04b26f71-5461-4cea-a93c-e50f798522fe",
   "metadata": {},
   "outputs": [
    {
     "name": "stdout",
     "output_type": "stream",
     "text": [
      "Training set\n",
      "-- Total sentences: 15300\n",
      "-- Set of Tags: O B-PER I-PER B-GRP I-GRP B-CW I-CW B-LOC B-CORP I-CORP B-PROD I-LOC I-PROD -> 13\n",
      "-- PER (person): 5397\n",
      "-- LOC (location): 4799\n",
      "-- CORP (corporation): 3111\n",
      "-- GRP (group): 3571\n",
      "-- PROD (product): 2923\n",
      "-- CW (creative work): 3752\n",
      "Validation set\n",
      "-- Total sentences: 800\n",
      "-- Set of Tags: B-CW I-CW O B-PER I-PER B-CORP I-CORP B-GRP I-GRP B-LOC I-LOC B-PROD I-PROD -> 13\n",
      "-- PER (person): 290\n",
      "-- LOC (location): 234\n",
      "-- CORP (corporation): 193\n",
      "-- GRP (group): 190\n",
      "-- PROD (product): 147\n",
      "-- CW (creative work): 176\n",
      "Test set\n",
      "-- Total sentences: 217818\n",
      "-- Set of Tags: B-PROD I-PROD O B-GRP B-LOC I-LOC I-GRP B-CORP I-CORP B-CW B-PER I-PER I-CW -> 13\n",
      "-- PER (person): 55682\n",
      "-- LOC (location): 59082\n",
      "-- CORP (corporation): 37435\n",
      "-- GRP (group): 41156\n",
      "-- PROD (product): 36786\n",
      "-- CW (creative work): 42781\n"
     ]
    }
   ],
   "source": [
    "print(\"Training set\")\n",
    "describe_df(df_train)\n",
    "print(\"Validation set\")\n",
    "describe_df(df_dev)\n",
    "print(\"Test set\")\n",
    "describe_df(df_test)"
   ]
  }
 ],
 "metadata": {
  "kernelspec": {
   "display_name": "Python 3 (ipykernel)",
   "language": "python",
   "name": "python3"
  },
  "language_info": {
   "codemirror_mode": {
    "name": "ipython",
    "version": 3
   },
   "file_extension": ".py",
   "mimetype": "text/x-python",
   "name": "python",
   "nbconvert_exporter": "python",
   "pygments_lexer": "ipython3",
   "version": "3.11.5"
  }
 },
 "nbformat": 4,
 "nbformat_minor": 5
}
